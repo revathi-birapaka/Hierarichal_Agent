{
 "cells": [
  {
   "cell_type": "code",
   "execution_count": null,
   "id": "bf092231-ee52-4c2f-b839-4619f96d7dfc",
   "metadata": {},
   "outputs": [],
   "source": [
    "import os\n",
    "from typing import Annotated, Literal\n",
    "from pathlib import Path\n",
    "from dotenv import load_dotenv\n",
    "\n",
    "# LangChain imports\n",
    "from langchain_community.utilities import GoogleSerperAPIWrapper\n",
    "from langchain_core.tools import tool\n",
    "from langchain_core.language_models.chat_models import BaseChatModel\n",
    "from langchain_core.messages import HumanMessage\n",
    "from langchain_openai import ChatOpenAI\n",
    "from langchain_core.tools.base import TOOL_MESSAGE_BLOCK_TYPES\n",
    "\n",
    "\n",
    "# LangGraph imports\n",
    "from langgraph.graph import StateGraph, MessagesState, START, END\n",
    "from langgraph.types import Command\n",
    "from langgraph.prebuilt import create_react_agent\n",
    "from typing_extensions import TypedDict\n",
    "\n",
    "# Load environment variables from .env file\n",
    "load_dotenv()\n",
    "\n",
    "# Access API Keys from environment\n",
    "OPENAI_API_KEY = \"open ai api key\"\n",
    "SERPER_API_KEY = \"serper api key\""
   ]
  },
  {
   "cell_type": "markdown",
   "id": "f58d9bc6-23e4-4912-a502-c02a563e57fd",
   "metadata": {},
   "source": [
    "#### CREATING A TEMPORARY DIRECTORY"
   ]
  },
  {
   "cell_type": "code",
   "execution_count": 32,
   "id": "81624fd8-8364-44fb-9dd3-427fe539a07d",
   "metadata": {},
   "outputs": [],
   "source": [
    "# File Management Setup - Using current working directory consistently\n",
    "WORKING_DIRECTORY = Path.cwd()"
   ]
  },
  {
   "cell_type": "markdown",
   "id": "31fe57fb-b045-4cac-ad89-4e5b24ce7508",
   "metadata": {},
   "source": [
    "#### SEARCH TOOL USING SERPERAPI FOR PHARMA AND FINANCE"
   ]
  },
  {
   "cell_type": "code",
   "execution_count": 33,
   "id": "1911898f-ba9f-4e2e-b764-b5096b72d1ca",
   "metadata": {},
   "outputs": [],
   "source": [
    "# Search Tool\n",
    "serper_search = GoogleSerperAPIWrapper(serper_api_key=SERPER_API_KEY)\n",
    "\n",
    "@tool\n",
    "def enhanced_search(query: str, search_type: str = \"search\") -> str:\n",
    "    \"\"\"Enhanced search using Serper for real-time data and current information.\"\"\"\n",
    "    try:\n",
    "        results = serper_search.results(query)\n",
    "        formatted_content = []\n",
    "        \n",
    "        if 'organic' in results:\n",
    "            for i, result in enumerate(results['organic'][:8], 1):\n",
    "                content = f\"<Source {i}>\\n\"\n",
    "                content += f\"Title: {result.get('title', 'N/A')}\\n\"\n",
    "                content += f\"URL: {result.get('link', 'N/A')}\\n\"\n",
    "                content += f\"Snippet: {result.get('snippet', 'N/A')}\\n\"\n",
    "                content += f\"Date: {result.get('date', 'Recent')}\\n\"\n",
    "                content += \"</Source>\\n\"\n",
    "                formatted_content.append(content)\n",
    "        \n",
    "        if 'news' in results:\n",
    "            formatted_content.append(\"\\n<Recent News>\\n\")\n",
    "            for i, news in enumerate(results['news'][:3], 1):\n",
    "                content = f\"News {i}: {news.get('title', 'N/A')}\\n\"\n",
    "                content += f\"Source: {news.get('source', 'N/A')}\\n\"\n",
    "                content += f\"Date: {news.get('date', 'Recent')}\\n\"\n",
    "                content += f\"Summary: {news.get('snippet', 'N/A')}\\n\\n\"\n",
    "                formatted_content.append(content)\n",
    "            formatted_content.append(\"</Recent News>\\n\")\n",
    "        \n",
    "        return \"\\n\".join(formatted_content) if formatted_content else \"No results found\"\n",
    "    except Exception as e:\n",
    "        return f\"Search error: {str(e)}\""
   ]
  },
  {
   "cell_type": "markdown",
   "id": "babf756f-4cb6-49ff-9e0f-dd586e9ea4a3",
   "metadata": {},
   "source": [
    "##### CREATE SUMMARY TOOL"
   ]
  },
  {
   "cell_type": "code",
   "execution_count": 34,
   "id": "bfa1961e-d7a2-480a-a406-641f66823c4a",
   "metadata": {},
   "outputs": [],
   "source": [
    "@tool\n",
    "def create_summary(\n",
    "    content: Annotated[str, \"Research content to summarize\"],\n",
    "    file_name: Annotated[str, \"File path to save the summary\"],\n",
    ") -> Annotated[str, \"Path of the saved summary file\"]:\n",
    "    \"\"\"Create and save a summary from research content.\"\"\"\n",
    "    # Ensure the file has a .txt extension for summaries\n",
    "    if not file_name.endswith(('.txt', '.md')):\n",
    "        file_name = file_name.rsplit(\".\", 1)[0] + \".txt\" if \".\" in file_name else file_name + \".txt\"\n",
    "    \n",
    "    file_path = WORKING_DIRECTORY / file_name\n",
    "    with file_path.open(\"w\", encoding='utf-8') as file:\n",
    "        print(\"create_summary write\")\n",
    "        file.write(content)\n",
    "    return f\"Summary saved to {file_path}\""
   ]
  },
  {
   "cell_type": "markdown",
   "id": "b8534b19-5f96-4ae5-914b-7a1085f1f923",
   "metadata": {},
   "source": [
    "##### CREATE DOCUMENT TOOL"
   ]
  },
  {
   "cell_type": "code",
   "execution_count": 35,
   "id": "c7e37889-35e4-4f33-a532-04cab13a5115",
   "metadata": {},
   "outputs": [],
   "source": [
    "@tool\n",
    "def create_document(\n",
    "    content: Annotated[str, \"Content to be written into the document\"],\n",
    "    file_name: Annotated[str, \"File path to save the document\"],\n",
    ") -> Annotated[str, \"Path of the saved document file\"]:\n",
    "    \"\"\"Create and save a document from summary content as a Markdown file.\"\"\"\n",
    "    # Ensure the file has a .md extension for Markdown documents\n",
    "    if not file_name.endswith(\".md\"):\n",
    "        file_name = file_name.rsplit(\".\", 1)[0] + \".md\" if \".\" in file_name else file_name + \".md\"\n",
    "        \n",
    "    file_path = WORKING_DIRECTORY / file_name\n",
    "    with file_path.open(\"w\", encoding='utf-8') as file:\n",
    "        file.write(content)\n",
    "    return f\"Document saved to {file_path}\""
   ]
  },
  {
   "cell_type": "markdown",
   "id": "eac703ae-3b99-4d0f-9163-1f5993e1be03",
   "metadata": {},
   "source": [
    "##### READ FILE TOOL"
   ]
  },
  {
   "cell_type": "code",
   "execution_count": 36,
   "id": "594ca27f-f7f9-4f43-a506-75ced15163d0",
   "metadata": {},
   "outputs": [],
   "source": [
    "@tool\n",
    "def read_file(\n",
    "    file_name: Annotated[str, \"File path to read\"],\n",
    ") -> str:\n",
    "    \"\"\"Read the specified file from the working directory.\"\"\"\n",
    "    try:\n",
    "        file_path = WORKING_DIRECTORY / file_name\n",
    "        with file_path.open(\"r\", encoding='utf-8') as file:\n",
    "            return file.read()\n",
    "    except FileNotFoundError:\n",
    "        return f\"File {file_name} not found in {WORKING_DIRECTORY}\"\n",
    "    except Exception as e:\n",
    "        return f\"Error reading file {file_name}: {str(e)}\""
   ]
  },
  {
   "cell_type": "markdown",
   "id": "f2665eae-8bbb-420e-9ef0-6ef9b6be6445",
   "metadata": {},
   "source": [
    "##### CREATING STATE"
   ]
  },
  {
   "cell_type": "code",
   "execution_count": 37,
   "id": "5d92ab0b-c90b-4844-83c9-6116b6e4959b",
   "metadata": {},
   "outputs": [],
   "source": [
    "class State(MessagesState):\n",
    "    next: str"
   ]
  },
  {
   "cell_type": "code",
   "execution_count": 38,
   "id": "62a8b70b-9d4c-4112-a871-ec0759bcfc11",
   "metadata": {},
   "outputs": [],
   "source": [
    "def make_supervisor_node(llm: BaseChatModel, members: list[str]) -> callable:\n",
    "    options = [\"FINISH\"] + members\n",
    "    system_prompt = (\n",
    "        \"You are a supervisor tasked with managing a conversation between the\"\n",
    "        f\" following workers: {members}. Given the following user request,\"\n",
    "        \" respond with the worker to act next. Each worker will perform a\"\n",
    "        \" task and respond with their results and status. When finished,\"\n",
    "        \" respond with FINISH.\"\n",
    "    )\n",
    "    \n",
    "    class Router(TypedDict):\n",
    "        \"\"\"Worker to route to next. If no workers needed, route to FINISH.\"\"\"\n",
    "        next: Literal[*options]\n",
    "    \n",
    "    def supervisor_node(state: State) -> Command[Literal[*members, \"__end__\"]]:\n",
    "        \"\"\"An LLM-based router.\"\"\"\n",
    "        messages = [\n",
    "            {\"role\": \"system\", \"content\": system_prompt},\n",
    "        ] + state[\"messages\"]\n",
    "        response = llm.with_structured_output(Router).invoke(messages)\n",
    "        goto = response[\"next\"]\n",
    "        if goto == \"FINISH\":\n",
    "            goto = END\n",
    "        return Command(goto=goto, update={\"next\": goto})\n",
    "    \n",
    "    return supervisor_node"
   ]
  },
  {
   "cell_type": "markdown",
   "id": "c2c9021f-27ef-495d-a1fb-53d643767912",
   "metadata": {},
   "source": [
    "##### INITIALIZING A MODEL"
   ]
  },
  {
   "cell_type": "code",
   "execution_count": null,
   "id": "2049c60a-97cf-43f7-a3e3-d8cbaff2b76c",
   "metadata": {},
   "outputs": [],
   "source": [
    "llm = ChatOpenAI(\n",
    "            model=\"gpt-4o-mini\",\n",
    "            openai_api_key=\"open ai api key\",\n",
    "            #openai_api_base=os.getenv(\"BASE_URL\"),\n",
    "        )"
   ]
  },
  {
   "cell_type": "markdown",
   "id": "e0f2595c-eb35-4f93-aab0-1f1c1a081d7d",
   "metadata": {},
   "source": [
    "### RESEARCH TEAM"
   ]
  },
  {
   "cell_type": "markdown",
   "id": "2bc19253-adcd-4eb7-8572-65930e36726f",
   "metadata": {},
   "source": [
    "##### MEDICAL RESEARCH REACT AGENT"
   ]
  },
  {
   "cell_type": "code",
   "execution_count": 40,
   "id": "81906644-758c-41d4-a56a-017850c63023",
   "metadata": {},
   "outputs": [],
   "source": [
    "# Medical/Pharma Research Agent\n",
    "medical_research_agent = create_react_agent(\n",
    "    llm, \n",
    "    tools=[enhanced_search],\n",
    "    prompt=\"You are a medical and pharmaceutical research specialist. Use the enhanced_search tool to find the most current and real-time information on medical, healthcare, pharmaceutical, and biotech topics. Focus on recent developments, breaking news, clinical studies, regulatory updates, and industry trends. Provide detailed research on health-related queries with emphasis on current data.\"\n",
    ")"
   ]
  },
  {
   "cell_type": "code",
   "execution_count": 41,
   "id": "ec4f3df9-10f3-48c4-99ae-4cd04299e80f",
   "metadata": {},
   "outputs": [],
   "source": [
    "def medical_research_node(state: State) -> Command[Literal[\"research_supervisor\"]]:\n",
    "    result = medical_research_agent.invoke(state)\n",
    "    return Command(\n",
    "        update={\n",
    "            \"messages\": [\n",
    "                HumanMessage(content=result[\"messages\"][-1].content, name=\"medical_researcher\")\n",
    "            ]\n",
    "        },\n",
    "        goto=\"research_supervisor\",\n",
    "    )"
   ]
  },
  {
   "cell_type": "markdown",
   "id": "70efe397-993e-4c04-b157-3802f00c0375",
   "metadata": {},
   "source": [
    "##### FINANCE REASEARCH AGENT"
   ]
  },
  {
   "cell_type": "code",
   "execution_count": 42,
   "id": "1c0f94a6-eec9-41f6-9e31-9cda21859b4f",
   "metadata": {},
   "outputs": [],
   "source": [
    "finance_research_agent = create_react_agent(\n",
    "    llm, \n",
    "    tools=[enhanced_search],\n",
    "    prompt=\"You are a financial research specialist. Use the enhanced_search tool to find real-time and current information on finance, economics, markets, investments, and business topics. Focus on live market data, breaking financial news, economic indicators, company financials, and investment opportunities. Provide detailed research on financial queries with emphasis on real-time data.\"\n",
    ")"
   ]
  },
  {
   "cell_type": "code",
   "execution_count": 43,
   "id": "9c127f68-1652-4af6-bc6c-e13c83b63c38",
   "metadata": {},
   "outputs": [],
   "source": [
    "def finance_research_node(state: State) -> Command[Literal[\"research_supervisor\"]]:\n",
    "    result = finance_research_agent.invoke(state)\n",
    "    return Command(\n",
    "        update={\n",
    "            \"messages\": [\n",
    "                HumanMessage(content=result[\"messages\"][-1].content, name=\"finance_researcher\")\n",
    "            ]\n",
    "        },\n",
    "        goto=\"research_supervisor\",\n",
    "    )"
   ]
  },
  {
   "cell_type": "markdown",
   "id": "dfd8141f-2be8-436b-a781-f65a72065566",
   "metadata": {},
   "source": [
    "#### MAKING RESEARCH TEAM SUPERVISOR"
   ]
  },
  {
   "cell_type": "code",
   "execution_count": 44,
   "id": "05f35418-f5bb-41e2-885e-1853d39b568b",
   "metadata": {},
   "outputs": [],
   "source": [
    "research_supervisor_node = make_supervisor_node(llm, [\"medical_researcher\", \"finance_researcher\"])"
   ]
  },
  {
   "cell_type": "markdown",
   "id": "752d8a0a-4760-413b-ab4d-5b928b03372e",
   "metadata": {},
   "source": [
    "##### COMPILING THE SUBGRAPH WHICH IS BASICALLY THE RESEARCH AGENT"
   ]
  },
  {
   "cell_type": "code",
   "execution_count": 45,
   "id": "d150dce5-758d-4c53-afcf-8d14459a9146",
   "metadata": {},
   "outputs": [],
   "source": [
    "# Build Research Team Graph\n",
    "research_builder = StateGraph(State)\n",
    "research_builder.add_node(\"research_supervisor\", research_supervisor_node)\n",
    "research_builder.add_node(\"medical_researcher\", medical_research_node)\n",
    "research_builder.add_node(\"finance_researcher\", finance_research_node)\n",
    "research_builder.add_edge(START, \"research_supervisor\")\n",
    "research_graph = research_builder.compile()"
   ]
  },
  {
   "cell_type": "code",
   "execution_count": 46,
   "id": "67717814-ad99-44cc-a8a4-a97c296028f2",
   "metadata": {},
   "outputs": [
    {
     "data": {
      "image/png": "[encoded data removed]",
      "text/plain": [
       "<langgraph.graph.state.CompiledStateGraph object at 0x0000027591A45340>"
      ]
     },
     "execution_count": 46,
     "metadata": {},
     "output_type": "execute_result"
    }
   ],
   "source": [
    "research_builder.compile()"
   ]
  },
  {
   "cell_type": "markdown",
   "id": "4c9ad5d7-a4d8-4e99-af19-7f74e8a2275b",
   "metadata": {},
   "source": [
    "### GENERATOR TEAM"
   ]
  },
  {
   "cell_type": "markdown",
   "id": "e96f667d-30e2-4c55-99cc-7688c5f7f044",
   "metadata": {},
   "source": [
    "##### SUMMARY REACT AGENT"
   ]
  },
  {
   "cell_type": "code",
   "execution_count": 47,
   "id": "992aca1e-5225-4e98-bc58-92d36ae7505a",
   "metadata": {},
   "outputs": [],
   "source": [
    "summary_agent = create_react_agent(\n",
    "    llm,\n",
    "    tools=[create_summary, read_file],\n",
    "    prompt=\"You are a content summarizer. When given research content, create a concise summary and ALWAYS save it using the create_summary tool with an appropriate filename.\"\n",
    ")"
   ]
  },
  {
   "cell_type": "code",
   "execution_count": 48,
   "id": "5f2b4c15-d815-48e1-91c2-0be20c9f3dd1",
   "metadata": {},
   "outputs": [],
   "source": [
    "def summary_node(state: State) -> Command[Literal[\"generator_supervisor\"]]:\n",
    "    result = summary_agent.invoke(state)\n",
    "    \n",
    "    return Command(\n",
    "        update={\n",
    "            \"messages\": [\n",
    "                HumanMessage(content=result[\"messages\"][-1].content, name=\"summarizer\")\n",
    "            ]\n",
    "        },\n",
    "        goto=\"generator_supervisor\",\n",
    "    )"
   ]
  },
  {
   "cell_type": "markdown",
   "id": "b8626537-20e8-4c6c-98e9-55450a0ac569",
   "metadata": {},
   "source": [
    "#### DOCUMENT GENERATOR AGENT"
   ]
  },
  {
   "cell_type": "code",
   "execution_count": 49,
   "id": "53e0d576-b374-4e13-8f43-a4976bc14ae0",
   "metadata": {},
   "outputs": [],
   "source": [
    "doc_generator_agent = create_react_agent(\n",
    "    llm,\n",
    "    tools=[create_document, read_file],\n",
    "    prompt=\"You are a document generator. Read summary files using read_file tool, then create comprehensive documents and ALWAYS save them using the create_document tool with an appropriate filename.\"\n",
    ")"
   ]
  },
  {
   "cell_type": "code",
   "execution_count": 50,
   "id": "616207f1-0cfb-48bd-acef-6f79bfafdf91",
   "metadata": {},
   "outputs": [],
   "source": [
    "def doc_generator_node(state: State) -> Command[Literal[\"generator_supervisor\"]]:\n",
    "    result = doc_generator_agent.invoke(state)\n",
    "    \n",
    "    return Command(\n",
    "        update={\n",
    "            \"messages\": [\n",
    "                HumanMessage(content=result[\"messages\"][-1].content, name=\"doc_generator\")\n",
    "            ]\n",
    "        },\n",
    "        goto=\"generator_supervisor\",\n",
    "    )\n"
   ]
  },
  {
   "cell_type": "markdown",
   "id": "d3b4d456-664b-4cf6-9027-4dc46cfa3201",
   "metadata": {},
   "source": [
    "##### MAKING THE GENERATOR TEAM SUPERVISOR"
   ]
  },
  {
   "cell_type": "code",
   "execution_count": 51,
   "id": "ec3d7ee2-6c4e-48c2-9205-3f8e065d7897",
   "metadata": {},
   "outputs": [],
   "source": [
    "generator_supervisor_node = make_supervisor_node(llm, [\"summarizer\", \"doc_generator\"])"
   ]
  },
  {
   "cell_type": "markdown",
   "id": "c3697bba-3a13-4c6f-a0a5-00d2848b3800",
   "metadata": {},
   "source": [
    "##### COMPILING THE SUBGRAPH WHICH IS BASICALLY A GENERATOR AGENT"
   ]
  },
  {
   "cell_type": "code",
   "execution_count": 52,
   "id": "479ef76d-1fcf-47be-a1ba-93119ea8a6d2",
   "metadata": {},
   "outputs": [],
   "source": [
    "generator_builder = StateGraph(State)\n",
    "generator_builder.add_node(\"generator_supervisor\", generator_supervisor_node)\n",
    "generator_builder.add_node(\"summarizer\", summary_node)\n",
    "generator_builder.add_node(\"doc_generator\", doc_generator_node)\n",
    "generator_builder.add_edge(START, \"generator_supervisor\")\n",
    "generator_graph = generator_builder.compile()"
   ]
  },
  {
   "cell_type": "code",
   "execution_count": 53,
   "id": "da5f17b1-3d14-4c35-ba39-e1ebb3939d6f",
   "metadata": {},
   "outputs": [
    {
     "data": {
      "image/png": "[encoded data removed]",
      "text/plain": [
       "<langgraph.graph.state.CompiledStateGraph object at 0x0000027591A46690>"
      ]
     },
     "execution_count": 53,
     "metadata": {},
     "output_type": "execute_result"
    }
   ],
   "source": [
    "generator_builder.compile()"
   ]
  },
  {
   "cell_type": "markdown",
   "id": "45f6fa86-73ad-4981-9370-439abb370ecf",
   "metadata": {},
   "source": [
    "#### AS WE BUILT OUR TEAMS AND BASIC COMPONENTS NOW LETS INTEGRATE THIS WITH TOP MOST SUPERVISOR"
   ]
  },
  {
   "cell_type": "markdown",
   "id": "56c36bce-3c13-470b-9c91-99fa195a60b4",
   "metadata": {},
   "source": [
    "##### TOP LEVEL SUPERVISOR"
   ]
  },
  {
   "cell_type": "code",
   "execution_count": 54,
   "id": "f4f0ffe7-b90e-4c75-bad4-d41688e64261",
   "metadata": {},
   "outputs": [],
   "source": [
    "main_supervisor_node = make_supervisor_node(llm, [\"research_team\", \"generator_team\"])"
   ]
  },
  {
   "cell_type": "markdown",
   "id": "635fdf67-ad1b-42f9-97de-961b623a34a8",
   "metadata": {},
   "source": [
    "##### RESEARCH TEAM"
   ]
  },
  {
   "cell_type": "code",
   "execution_count": 55,
   "id": "8937b0ec-b7d8-40b5-baa8-11f3fe2a0c84",
   "metadata": {},
   "outputs": [],
   "source": [
    "def call_research_team(state: State) -> Command[Literal[\"main_supervisor\"]]:\n",
    "    \"\"\"Call the research team and return results to main supervisor.\"\"\"\n",
    "    response = research_graph.invoke({\"messages\": state[\"messages\"]})\n",
    "    return Command(\n",
    "        update={\n",
    "            \"messages\": [\n",
    "                HumanMessage(\n",
    "                    content=response[\"messages\"][-1].content, \n",
    "                    name=\"research_team\"\n",
    "                )\n",
    "            ]\n",
    "        },\n",
    "        goto=\"main_supervisor\",\n",
    "    )"
   ]
  },
  {
   "cell_type": "markdown",
   "id": "4ea98e62-65d4-43be-8d66-7c27756ac1af",
   "metadata": {},
   "source": [
    "##### GENERATOR TEAM"
   ]
  },
  {
   "cell_type": "code",
   "execution_count": 56,
   "id": "28e7f5a2-ec71-4685-bd5b-8abadea4f109",
   "metadata": {},
   "outputs": [],
   "source": [
    "def call_generator_team(state: State) -> Command[Literal[\"main_supervisor\"]]:\n",
    "    \"\"\"Call the generator team and return results to main supervisor.\"\"\"\n",
    "    response = generator_graph.invoke({\"messages\": state[\"messages\"]})\n",
    "    return Command(\n",
    "        update={\n",
    "            \"messages\": [\n",
    "                HumanMessage(\n",
    "                    content=response[\"messages\"][-1].content, \n",
    "                    name=\"generator_team\"\n",
    "                )\n",
    "            ]\n",
    "        },\n",
    "        goto=\"main_supervisor\",\n",
    "    )"
   ]
  },
  {
   "cell_type": "markdown",
   "id": "45a08ab8-327d-430a-bbe0-07c5d66c538b",
   "metadata": {},
   "source": [
    "##### COMPILING THE FINAL GRAPH"
   ]
  },
  {
   "cell_type": "code",
   "execution_count": 57,
   "id": "cb6594ee-d152-4216-b72c-71536a959446",
   "metadata": {},
   "outputs": [],
   "source": [
    "main_builder = StateGraph(State)\n",
    "main_builder.add_node(\"main_supervisor\", main_supervisor_node)\n",
    "main_builder.add_node(\"research_team\", call_research_team)\n",
    "main_builder.add_node(\"generator_team\", call_generator_team)\n",
    "main_builder.add_edge(START, \"main_supervisor\")\n",
    "main_graph = main_builder.compile()"
   ]
  },
  {
   "cell_type": "code",
   "execution_count": 58,
   "id": "cba3ac2a-3d64-40c3-95a2-d199f76b6490",
   "metadata": {},
   "outputs": [
    {
     "data": {
      "image/png": "[encoded data removed]",
      "text/plain": [
       "<langgraph.graph.state.CompiledStateGraph object at 0x0000027591A4B9E0>"
      ]
     },
     "execution_count": 58,
     "metadata": {},
     "output_type": "execute_result"
    }
   ],
   "source": [
    "main_builder.compile()"
   ]
  },
  {
   "cell_type": "code",
   "execution_count": 59,
   "id": "73c26d16-8e65-475b-a038-8f9467fe1a48",
   "metadata": {},
   "outputs": [],
   "source": [
    "def run_hierarchical_system(query: str):\n",
    "    \"\"\"Run the hierarchical agent system with a given query.\"\"\"\n",
    "    print(f\"Processing query: {query}\")\n",
    "    print(\"=\" * 50)\n",
    "    \n",
    "    for step in main_graph.stream(\n",
    "        {\"messages\": [(\"user\", query)]},\n",
    "        {\"recursion_limit\": 100}\n",
    "    ):\n",
    "        print(step)\n",
    "        print(\"-\" * 30)"
   ]
  },
  {
   "cell_type": "code",
   "execution_count": 62,
   "id": "b1b40953-5921-4a64-9f81-702ea53ea025",
   "metadata": {},
   "outputs": [
    {
     "name": "stdout",
     "output_type": "stream",
     "text": [
      "Processing query: what steps do you suggest a beginner while starting their trading journey?\n",
      "==================================================\n",
      "{'main_supervisor': {'next': 'research_team'}}\n",
      "------------------------------\n"
     ]
    },
    {
     "name": "stderr",
     "output_type": "stream",
     "text": [
      "Task research_supervisor with path ('__pregel_pull', 'research_supervisor') wrote to unknown channel branch:to:__end__, ignoring it.\n"
     ]
    },
    {
     "name": "stdout",
     "output_type": "stream",
     "text": [
      "{'research_team': {'messages': [HumanMessage(content='Starting a trading journey can be exciting and potentially profitable, but it also comes with risks. Here are several steps that a beginner should consider taking to navigate this journey effectively:\\n\\n1. **Educate Yourself**:\\n   - **Read Books and Articles**: Look for reputable sources that cover both fundamental and technical analysis.\\n   - **Online Courses**: Platforms like Coursera and Udemy offer courses on trading strategies and market analysis.\\n   - **Follow Market News**: Stay updated with financial news through websites like Bloomberg, CNBC, or MarketWatch.\\n\\n2. **Understand the Market**:\\n   - Learn about different markets (stocks, forex, commodities, crypto) and choose which one interests you.\\n   - Familiarize yourself with financial instruments like shares, ETFs, options, and futures.\\n\\n3. **Set Clear Goals**:\\n   - Define what you want to achieve with trading (short-term gains, long-term investment).\\n   - Set realistic expectations about returns.\\n\\n4. **Develop a Trading Plan**:\\n   - Create a structured plan outlining your trading strategy, risk tolerance, and profit targets.\\n   - Decide on the amount of capital you can afford to lose.\\n\\n5. **Choose a Reliable Broker**:\\n   - Research different brokers and select one that fits your needs (commissions, fees, features).\\n   - Ensure the broker is regulated and has a good reputation.\\n\\n6. **Practice with a Demo Account**:\\n   - Use a demo account to practice trading without risking real money.\\n   - This will help you familiarize yourself with trading platforms and test your strategies.\\n\\n7. **Learn Technical Analysis**:\\n   - Understand how to read charts and identify trends.\\n   - Get to know indicators like moving averages, RSI, MACD, etc.\\n\\n8. **Learn Risk Management**:\\n   - Use stop-loss orders to limit potential losses.\\n   - Never risk more than a small percentage of your capital on a single trade.\\n\\n9. **Start Small**:\\n   - When you’re ready to trade with real money, start with a small investment.\\n   - Gradually increase your position as you gain more confidence and experience.\\n\\n10. **Keep a Trading Journal**:\\n    - Document your trades, strategies, and emotions to identify patterns in your decision-making.\\n    - Review your journal regularly to learn from both successes and mistakes.\\n\\n11. **Stay Discipline and Adapt**:\\n    - Stick to your trading plan and avoid emotional trading.\\n    - Be open to adapting your strategies based on market conditions.\\n\\n12. **Seek Mentorship or Community**:\\n    - Consider joining trading groups or forums where you can share experiences and gain insights from others.\\n    - Find a mentor if possible to guide you.\\n\\n13. **Keep Learning**:\\n    - The trading landscape evolves continuously, so keep your skills updated.\\n    - Attend webinars, read new books, and follow market developments.\\n\\nBy following these steps, beginners can create a solid foundation for their trading journey while minimizing risks.', additional_kwargs={}, response_metadata={}, name='research_team', id='4e59dba2-3b34-4fab-ae30-a1b1c5863879')]}}\n",
      "------------------------------\n",
      "{'main_supervisor': {'next': 'generator_team'}}\n",
      "------------------------------\n"
     ]
    },
    {
     "name": "stderr",
     "output_type": "stream",
     "text": [
      "Task generator_supervisor with path ('__pregel_pull', 'generator_supervisor') wrote to unknown channel branch:to:__end__, ignoring it.\n"
     ]
    },
    {
     "name": "stdout",
     "output_type": "stream",
     "text": [
      "{'generator_team': {'messages': [HumanMessage(content='I have created and saved the document titled \"Beginner\\'s Guide to Starting a Trading Journey\". You can find it [here](sandbox:/C:/Users/Revathi/Documents/GenAIProjects/MedicalHierarichalAgent/beginner_trading_guide.md). This guide includes essential steps for beginners to navigate their trading journey effectively.', additional_kwargs={}, response_metadata={}, name='generator_team', id='d8ae4aa9-6e1f-4a8e-8c53-aa5053bab4bd')]}}\n",
      "------------------------------\n"
     ]
    },
    {
     "name": "stderr",
     "output_type": "stream",
     "text": [
      "Task main_supervisor with path ('__pregel_pull', 'main_supervisor') wrote to unknown channel branch:to:__end__, ignoring it.\n"
     ]
    },
    {
     "name": "stdout",
     "output_type": "stream",
     "text": [
      "{'main_supervisor': {'next': '__end__'}}\n",
      "------------------------------\n"
     ]
    }
   ],
   "source": [
    "run_hierarchical_system(\"what steps do you suggest a beginner while starting their trading journey?\")"
   ]
  },
  {
   "cell_type": "code",
   "execution_count": null,
   "id": "c961deaa-46d4-4b69-a21d-8e434e94709d",
   "metadata": {},
   "outputs": [],
   "source": []
  },
  {
   "cell_type": "code",
   "execution_count": null,
   "id": "bb6caac6-c6dd-4837-a646-4bcf9dd16654",
   "metadata": {},
   "outputs": [],
   "source": []
  }
 ],
 "metadata": {
  "kernelspec": {
   "display_name": "Python 3 (ipykernel)",
   "language": "python",
   "name": "python3"
  },
  "language_info": {
   "codemirror_mode": {
    "name": "ipython",
    "version": 3
   },
   "file_extension": ".py",
   "mimetype": "text/x-python",
   "name": "python",
   "nbconvert_exporter": "python",
   "pygments_lexer": "ipython3",
   "version": "3.12.2"
  }
 },
 "nbformat": 4,
 "nbformat_minor": 5
}
